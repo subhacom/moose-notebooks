{
 "cells": [
  {
   "cell_type": "markdown",
   "id": "c76c38e1-20d8-41ab-8d23-6e64d15a95d7",
   "metadata": {},
   "source": [
    "[![Open In Colab](./colab-badge.png)](https://colab.research.google.com/github/subhacom/moose-notebooks/blob/main/Action_potentials_K_channel.ipynb)"
   ]
  },
  {
   "cell_type": "markdown",
   "id": "e48f2391-a63b-456b-b24f-8cddc74cb839",
   "metadata": {},
   "source": [
    "If you are using `colab`, in a fresh runtime you need to run pip to install pymoose there. On the other hand, if you are running jupyter locally and have pymoose installed in that environment, skip the line below."
   ]
  },
  {
   "cell_type": "code",
   "execution_count": 1,
   "id": "7dc452d0-d61e-4555-9ebb-a0a4d3166ba8",
   "metadata": {},
   "outputs": [],
   "source": [
    "## Only required on colab!\n",
    "# !pip install pymoose --quiet"
   ]
  },
  {
   "cell_type": "markdown",
   "id": "02266dbe-5f1e-45f2-867f-b0834d445240",
   "metadata": {},
   "source": [
    "# Action potentials and Hodgkin-Huxley model"
   ]
  },
  {
   "cell_type": "markdown",
   "id": "7144b724-59cc-43b0-b8de-90c63cd1a195",
   "metadata": {},
   "source": [
    "Cytoplasm is not a very good conductor of electricity. As electric current propagates along a passive neuronal cable, the voltage keeps dropping with distance from source. Thus passive propagation is not a good strategy for sending signals along neurons in general.\n",
    "\n",
    "In reality most neurons, when stimulated, generate sudden jumps in membrane potential. These are called spikes because of their shape in plots of membrane potential.\n",
    "\n",
    "Alan Hodgkin and Andrew Huxley elucidated the mechanism of spike generation by conducting experiments on the giant axon of loligo (squid). They suggested that the behavior of the axon membrane can be modeled by adding to the parallel (passive) RC circuit $Na^{+}$ and $K^{+}$ mediated conductances which change with membrane voltage.\n",
    "\n"
   ]
  },
  {
   "cell_type": "markdown",
   "id": "aa3f3857-684e-4c3c-87b6-4f46682b79ab",
   "metadata": {},
   "source": [
    " [<img src=\"HH_equivalent_circuit.svg\" width=\"250\"/>](HH_equivalent_circuit.svg)"
   ]
  },
  {
   "cell_type": "markdown",
   "id": "ed4d7831-9466-4268-9d5a-932a1cdc324b",
   "metadata": {},
   "source": [
    "Here the batteries labeled $E_{Na}$ and $E_{K}$ represent the electrochemical potential of $Na^{+}$ and $K^{+}$ ions respectively. $G_{Na}$ and $G_{K}$ represent the voltage dependent conductances due to these ions. $G_{L}$, the leak conductance is inverse of the membrane resistance $R_{M}$ we used before. This conductance lumps all voltage-independent conductances (which can arise from a variety of channels including non-selective cationic channels). The reversal potential for these leak channels is represented by $E_{L}$. "
   ]
  },
  {
   "cell_type": "markdown",
   "id": "5f39f316-0ade-4cd4-960e-52614a025d4b",
   "metadata": {},
   "source": [
    "Through a series of clever experiments Hodgkin and Huxley figured out that the $K^{+}$ conductance evolves as \n",
    "$G_{K} = \\bar{G}_{K} n^{4}$\n",
    "\n",
    "where $\\bar{G}_{K}$ is the maximum value of $G_{K}$.\n",
    "They suggested that if $K^{+}$ ions could pass through the membrane when 4 gating particles occupied a certain (open) state simultaneously, then $n$ would represent the probability of each one being ope, and $n^{4}$ the probability of all four being open. From classical interpretation of probability, $n$ would also represent the fraction of a gating particle in the open state.\n",
    "\n",
    "They also modeled the transition between open and closed states as a first order chemical reaction. If $n$ fraction is open, and the particles switch from open to closed at the rate $\\beta_{n}$, then the fraction of open particles reduces at the rate $\\beta_{n} n$.\n",
    "\n",
    "If particles switch from closed to open state at rate $\\alpha_{n}$, then the fraction of open particles increases at the rate $\\alpha_{n} (1 - n)$, since  $(1-n)$ is the fraction that is in closed state. Thus the rate of change of open fraction is:\n",
    "\n",
    "$\\frac{dn}{dt} = \\alpha_{n} (1 - n) - \\beta_{n} n$\n",
    "\n",
    "The solution to this first order differential equation is\n",
    "\n",
    "$n = n_{\\infty} - (n_{\\infty} - n_{0}) exp (-t/\\tau_{n})$\n",
    "\n",
    "where\n",
    "\n",
    "$n_{\\infty} = \\frac{\\alpha_{n}}{\\alpha_{n} + \\beta_{n}}$,\n",
    "\n",
    "and\n",
    "\n",
    "$\\tau_{n} = \\frac{1}{\\alpha_{n} + \\beta_{n}}$\n",
    "\n",
    "$\\alpha_{n}$ and $\\beta_{n}$ are the steady state values of the rate constant, and depend on the voltage. Thus $n_{\\infty}$ and $\\tau_{n}$ are also functions of voltage.\n",
    "\n",
    "We can also express $\\alpha_{n}$ and $\\beta_{n}$ in terms of $n_{\\infty}$ and $\\tau_{n}$ :\n",
    "\n",
    "$\\alpha_{n} = n_{\\infty}/\\tau_{n}$\n",
    "\n",
    "and $\\beta_{n} = (1 - n_{\\infty})/\\tau_{n}$\n",
    "\n"
   ]
  },
  {
   "cell_type": "markdown",
   "id": "2addc5d4-9c8c-4472-ba10-9662185380ef",
   "metadata": {},
   "source": [
    "By analyzing there experimental results, Hodgkin and Huxley concluded that for squid giant axon\n",
    "\n",
    "$\\alpha_{n} = 0.01 (10 - V)/(exp(\\frac{10-V}{10}) - 1)$\n",
    "\n",
    "and \n",
    "\n",
    "$\\beta_{n} = 0.125\\ exp(\\frac{-V}{80})$\n",
    "\n",
    "*Note: if you look at the original paper by Hodgkin and Huxley, you will find that they used the opposite sign convention for V.*"
   ]
  },
  {
   "cell_type": "code",
   "execution_count": 2,
   "id": "fa203fe7-32b7-4de8-989c-b1b78ad52799",
   "metadata": {},
   "outputs": [],
   "source": [
    "# Usual imports\n",
    "import numpy as np\n",
    "import matplotlib.pyplot as plt\n",
    "\n",
    "import moose"
   ]
  },
  {
   "cell_type": "code",
   "execution_count": 3,
   "id": "648a60eb-1369-4bf0-83dc-25be29d3fa54",
   "metadata": {},
   "outputs": [],
   "source": [
    "# Create containers\n",
    "container = moose.Neutral('/sim')\n",
    "data = moose.Neutral('/sim/data')\n",
    "model = moose.Neutral('/sim/model')"
   ]
  },
  {
   "cell_type": "code",
   "execution_count": 4,
   "id": "c0f55283-0f74-44bb-b4cc-d32921f20f0a",
   "metadata": {},
   "outputs": [],
   "source": [
    "# Create a compartment representing the squid giant axon\n",
    "axon = moose.Compartment(f'{model.path}/axon')"
   ]
  },
  {
   "cell_type": "markdown",
   "id": "d693bbf9-cb19-4c45-8258-f530ed95e648",
   "metadata": {},
   "source": [
    "## Insert a channel into the compartment"
   ]
  },
  {
   "cell_type": "markdown",
   "id": "457f441c-efd8-4f1f-abf6-7b00ac21d84a",
   "metadata": {},
   "source": [
    "In moose, Hodgkin-Huxley type channels are implemented by the `HHChannel` class. The channel needs $V_{m}$ of the compartment to update its conductance $G_{k}$, and the compartment needs the channels conductance to compute the current flowing in, and thus to update the voltage. We have to connect the `channel` message of the `HHChannel` object to the `channel` message of the `Compartment` object so the channel conductance and membrane voltage can be communicated between the channel and the compartment."
   ]
  },
  {
   "cell_type": "code",
   "execution_count": 5,
   "id": "ee8f93a4-7384-433a-a5a6-81f39d918a73",
   "metadata": {},
   "outputs": [
    {
     "name": "stdout",
     "output_type": "stream",
     "text": [
      "INCOMING:\n",
      "  /sim[0]/model[0]/axon[0]/K[0], [parentMsg] <-- /sim[0]/model[0]/axon[0], [childOut]\n",
      "  /sim[0]/model[0]/axon[0]/K[0], [process,reinit] <-- /clock[0], [process4,reinit4]\n",
      "\n",
      "OUTGOING:\n",
      "  /sim[0]/model[0]/axon[0]/K[0], [childOut] --> /sim[0]/model[0]/axon[0]/K[0]/gateX[0], [parentMsg]\n",
      "  /sim[0]/model[0]/axon[0]/K[0], [childOut] --> /sim[0]/model[0]/axon[0]/K[0]/gateY[0], [parentMsg]\n",
      "  /sim[0]/model[0]/axon[0]/K[0], [childOut] --> /sim[0]/model[0]/axon[0]/K[0]/gateZ[0], [parentMsg]\n",
      "  /sim[0]/model[0]/axon[0]/K[0], [channelOut] --> /sim[0]/model[0]/axon[0], [handleChannel]\n",
      "\n"
     ]
    }
   ],
   "source": [
    "# Create a Hodgkin-Huxley-type channel and connect it to the compartment\n",
    "kchan = moose.HHChannel(f'{axon.path}/K')\n",
    "moose.connect(kchan, 'channel', axon, 'channel')\n",
    "moose.showmsg(kchan.path)"
   ]
  },
  {
   "cell_type": "markdown",
   "id": "565d5735-d87b-4644-a525-fc3ffeb42073",
   "metadata": {},
   "source": [
    "We have to set the reversal potential of the channel as well as the maximum conductance"
   ]
  },
  {
   "cell_type": "code",
   "execution_count": 6,
   "id": "4863de39-4f41-438c-96f5-8c1c5f0ec57c",
   "metadata": {},
   "outputs": [],
   "source": [
    "kchan.Ek = -12.0   # mV with respect to resting Vm\n",
    "# Gbar is maximum conductance. \n",
    "# The voltage dependent conductance value is computed and \n",
    "# stored in the field Gk, which we record in a table below\n",
    "kchan.Gbar = 36.0  # mS/cm^2"
   ]
  },
  {
   "cell_type": "markdown",
   "id": "03810205-c290-4ebb-ac0c-1b53c54afcdb",
   "metadata": {},
   "source": [
    "The $n$ gate variable has to be raised to the 4th power to compute the channel conductance. We indicate this to moose by setting the channel's `Xpower` field to the desired number. This will create the `HHGate` object associated with $n$ (X gate). We can use the `moose.element` function to get the created object from the path.\n",
    "\n",
    "*Note that the gate is named `gateX`.*"
   ]
  },
  {
   "cell_type": "code",
   "execution_count": 7,
   "id": "3d6d6eb1-d6e2-4c3e-90a8-0138550064c6",
   "metadata": {},
   "outputs": [],
   "source": [
    "kchan.Xpower = 4"
   ]
  },
  {
   "cell_type": "markdown",
   "id": "f17f60fb-7c37-4f21-b633-0f3abe6e3573",
   "metadata": {},
   "source": [
    "### Setting up gate dynamics "
   ]
  },
  {
   "cell_type": "markdown",
   "id": "e7243ab6-762d-4fb8-a412-3be2375c1d03",
   "metadata": {},
   "source": [
    "The rate formulae ($\\alpha_{n}$ and $\\beta_{n}$) for the gate involves computing exponentials at each step, which is computationally expensive. MOOSE precomputes the values for $\\alpha_{n}$ and $\\beta_{n}$ at regular voltage intervals within a given range, and then uses interpolation to find the approximate value at simulated voltage. \n",
    "\n",
    "The easiest way to setup the gate is to assign the rate formulae as expression strings using [exprtk](https://www.partow.net/programming/exprtk/) syntax, with `v` as the input variable (voltage in this case, but can also represent Ca2+ concentration for calcium dependent ion channels).\n",
    "\n",
    "The voltage range and the number divisions of the interpolation table is specified by `divs`, `min`, and `max` fields of the gate. In Hodgkin-Huxley formalism, -30 mV to 120 mV is a reasonable range for physiological conditions, and 150 divisions is good enough if we are using interpolation."
   ]
  },
  {
   "cell_type": "code",
   "execution_count": 8,
   "id": "1082cf4d-04c8-4315-9462-857915c67f67",
   "metadata": {},
   "outputs": [],
   "source": [
    "# moose.element(path) returns the existing element at the given path\n",
    "gate = moose.element(f'{kchan.path}/gateX')\n",
    "# gate.useInterpolation = True   # use a lookup table for alpha and beta\n",
    "gate.alphaExpr = '0.01 * (10 - v) / (exp((10 - v) / 10) - 1)'\n",
    "gate.betaExpr = '0.125 * exp(-v / 80)'\n",
    "gate.divs = 150\n",
    "gate.min = -30.0\n",
    "gate.max = 120.0"
   ]
  },
  {
   "cell_type": "markdown",
   "id": "c01627ac-7aac-4419-9c0b-ec3860065007",
   "metadata": {},
   "source": [
    "### What if I have formulae for $\\tau_{n}$ and $n_{\\infty}$ instead?\n",
    "Set the field `gate.tauExpr` with the formula for $\\tau_{n}$ and `gate.infExpr` with formula for $n_{\\infty}$."
   ]
  },
  {
   "cell_type": "markdown",
   "id": "d76e229a-34b4-474d-9425-ba8c80da643a",
   "metadata": {},
   "source": [
    "### Alternative (legacy) method:"
   ]
  },
  {
   "attachments": {},
   "cell_type": "markdown",
   "id": "3e417a65-acc8-4537-a416-0dd0450cd036",
   "metadata": {
    "jp-MarkdownHeadingCollapsed": true
   },
   "source": [
    "`HHChannel` objects allow three gates inside a channel: X, Y and Z. For K channel we will implement the single gate type in the X gate. Hodgkin-Huxley type ion channels have a more general form for the gate variables:\n",
    "\n",
    "$y(x) = \\frac{A + B\\ x}{C + exp(\\frac{x + D}{F})}$ where $x$ is the voltage and $y$ is the voltage dependent rate constant.\n",
    "\n",
    "You can veryfy that $A = 0.01 * 10 = 0.1$, $B = -0.01$, $C = -1$, $D = -10$, and $F = -10$ for $\\alpha_{n}$ and \n",
    "\n",
    "$A=0.125$, $B=0$, $C=0$, $D = 0$, and $F=-80$ for $\\beta_{n}$.\n",
    "\n",
    "Now you can use `HHGate.setupAlpha` function to set both $\\alpha_{n}$ and $\\beta_{n}$ for the X gate . \n",
    "\n",
    "*Note that these values are applicable when using physiological units: voltage is in $mV$, specific capacitance is in $\\mu F/cm^{2}$, specific conductances are in $mS/cm^2$.*\n",
    "\n",
    "```\n",
    "gate = moose.HHGate(f'{kchan.path}/gateX')\n",
    "alpha_params = [0.1, -0.01, -1.0, -10.0, -10.0]\n",
    "beta_params = [0.125, 0, 0, 0, 80.0]\n",
    "vdivs = 150\n",
    "vmin = -30.0\n",
    "vmax = 120.0\n",
    "# Note that `+` operator with lists as operands concatenates them\n",
    "params = alpha_params + beta_params + [vdivs, vmin, vmax]\n",
    "gate.setupAlpha(params)\n",
    "```\n",
    "\n",
    "If you have the parameters for $\\tau_{n} = 1/(\\alpha_{n} + \\beta_{n})$ and $n_{\\infty} = \\alpha_{n}/(\\alpha_{n} + \\beta_{n})$, then you can use `HHGate.setupTau` with these parameters to setup the interpolation tables. In this case, `tableA` will store $n_{\\infty}$ and `tableB` will store $\\tau_{n}$ values."
   ]
  },
  {
   "cell_type": "markdown",
   "id": "659f1421-a85f-49d2-aabe-b0ef07891d70",
   "metadata": {},
   "source": [
    "## Create the voltage clamp setup\n",
    "Now we can reuse our code for setting up voltage clamp "
   ]
  },
  {
   "cell_type": "code",
   "execution_count": 9,
   "id": "6d9acca9-317f-4509-a246-ade52267c9a0",
   "metadata": {},
   "outputs": [],
   "source": [
    "###################################################\n",
    "# Do not touch this code\n",
    "###################################################\n",
    "def create_voltage_clamp(modelpath, datapath, compartment):\n",
    "    \"\"\"Creates a voltage clamp object under `modelpath` and \n",
    "    a table under `datapath` to record the command voltage.\n",
    "    \n",
    "    Returns the `moose.PulseGen` that gives the command value \n",
    "    to the voltage clamp.\n",
    "    \"\"\"\n",
    "    path = f'{modelpath}/elec'  # create a separate container for electronics\n",
    "    \n",
    "    if moose.exists(path):   # avoid duplicate connect\n",
    "        print(f'{path}: Object already exists')\n",
    "        vclamp = moose.VClamp(f'{path}/vclamp')\n",
    "        command = moose.PulseGen(f'{path}/command')\n",
    "        command_tab = moose.Table(f'{datapath}/command')\n",
    "        return vclamp, command, command_tab\n",
    "    elec = moose.Neutral(path)    \n",
    "    vclamp = moose.VClamp(f'{path}/vclamp')\n",
    "    # The voltage clamp's output is `currentOut` which will be \n",
    "    # injected into the compartment\n",
    "    moose.connect(vclamp, 'currentOut', compartment, 'injectMsg')\n",
    "    # The voltage clamp object senses the voltage of the compartment\n",
    "    moose.connect(compartment, 'VmOut', vclamp, 'sensedIn')\n",
    "    command = moose.PulseGen(f'{path}/command')\n",
    "\n",
    "    # Connect the output of the command pulse to the command input of the voltage clamp circuit\n",
    "    moose.connect(command, 'output', vclamp, 'commandIn')\n",
    "\n",
    "    # Also setup a table to record the command voltage of the VClamp directly\n",
    "    command_tab = moose.Table(f'{datapath}/command')\n",
    "    moose.connect(command_tab, 'requestOut', command, 'getOutputValue')\n",
    "    \n",
    "    # compartment.dt is the integration time step for the compartment \n",
    "    # `tau` is the time constant of the RC filter in the circuit.\n",
    "    # 5 times the integration timestep value is a good starting point for tau\n",
    "    vclamp.tau = 5 * compartment.dt\n",
    "    # `gain` is the proportional gain of the PID controller. `Cm/dt` is a good value\n",
    "    vclamp.gain = compartment.Cm / compartment.dt\n",
    "\n",
    "    # `ti` is the integral time of the PID controller, `dt` is a good value\n",
    "    vclamp.ti = compartment.dt\n",
    "    # `td` is the derivative time of the PID controller. We can set it to 0\n",
    "    \n",
    "    return vclamp, command, command_tab\n",
    "\n",
    "\n",
    "def set_command_timecourse(command, base, delay, level):\n",
    "    \"\"\"Set up an existing pulse generator `command` to output `base` as initial value \n",
    "    and `level` after `delay` time\"\"\"\n",
    "    command.baseLevel = base   \n",
    "    command.firstDelay = delay   \n",
    "    command.secondDelay = 1e9    # Never stop \n",
    "    command.firstWidth = 1e9     # Never stop\n",
    "    command.firstLevel = level  "
   ]
  },
  {
   "cell_type": "code",
   "execution_count": 10,
   "id": "51202083-54d2-4051-ac7e-42e04ffb3e83",
   "metadata": {},
   "outputs": [],
   "source": [
    "# Insert voltage clamp circuitry\n",
    "vclamp, command, command_tab = create_voltage_clamp(model.path, data.path, axon)\n",
    "# baseline is set to equilibrium potential\n",
    "# delay is 10 ms, start the voltage change at this time\n",
    "# command level is -60 mV, which is 10 mV above equilibrium potential\n",
    "set_command_timecourse(command, 0.0, 10.0, 10.0)"
   ]
  },
  {
   "cell_type": "markdown",
   "id": "f9d3e1ef-7414-4dd4-a40e-956b318ad656",
   "metadata": {},
   "source": [
    "## Set the passive properties of the compartment\n",
    "Hodgkin and Huxley measured the voltages with respect to the resting membrane potential in teh squid axon. Following that we set the `Em` and `initVm` fields of the compartment to 0. \n",
    "The specific capacitance of a cell membrane is $1 \\mu F/cm^{2}$. We can keep the same value assuming unit surface area of our compartment. As long as all units are consistent, the results should be the same.\n",
    "\n",
    "The leak conductivity was $0.3 mS/cm^{2}$, and we set the membrane resistance as the inverse of that, which would have a unit of $k \\Omega cm^2$. These are physiological units, and under this the unit of time constant would be: $\\mu F/cm^{2} * k \\Omega cm^2$ = $\\mu F * k \\Omega$ = $10^{-6} F * 10^{3} \\Omega$ = $10^{-3} F \\Omega$ = $10^{-3} s$ = $ms$."
   ]
  },
  {
   "cell_type": "code",
   "execution_count": 11,
   "id": "641730d6-109c-4e3a-9439-5a6700b23613",
   "metadata": {},
   "outputs": [],
   "source": [
    "axon.Em = 0    # Hodgkin and Huxley used resting voltage as 0\n",
    "axon.initVm = 0\n",
    "axon.Cm = 1\n",
    "axon.Rm = 1 / 0.3   # G_leak is 0.3 mS/cm^2"
   ]
  },
  {
   "cell_type": "markdown",
   "id": "312b9bc1-905a-43d9-afb1-9025979a85a2",
   "metadata": {},
   "source": [
    "## Set up data recording\n",
    "We should also setup tables to record membrane current as well as K+ conductance "
   ]
  },
  {
   "cell_type": "code",
   "execution_count": 12,
   "id": "86087358-749b-4263-95a6-d1f313e0b30e",
   "metadata": {},
   "outputs": [
    {
     "data": {
      "text/plain": [
       "<moose.SingleMsg id=5 dataIndex=6 path=/Msgs[0]/singleMsg[6]>"
      ]
     },
     "execution_count": 12,
     "metadata": {},
     "output_type": "execute_result"
    }
   ],
   "source": [
    "gK_tab = moose.Table(f'{data.path}/gK')\n",
    "moose.connect(gK_tab, 'requestOut', kchan, 'getGk')\n",
    "im_tab = moose.Table(f'{data.path}/Im')\n",
    "moose.connect(im_tab, 'requestOut', axon, 'getIm')"
   ]
  },
  {
   "cell_type": "markdown",
   "id": "023e972d-8949-4292-a153-996a4129df4f",
   "metadata": {},
   "source": [
    "## Setup scheduling (optional), initialize the model, and run the simulation"
   ]
  },
  {
   "cell_type": "markdown",
   "id": "8286004e-43a9-477a-9b4f-9ddc508f6e77",
   "metadata": {},
   "source": [
    "To work around an issue in moose (this is fixed in github repo as of March 2024), we need to explicitly schedule in what order various objects are updated during the simulation. This is done via the `setClock` and `useClock` functions.\n",
    "\n",
    "`useClock(n, path)` schedules object(s) in path `path` on clock number `n`. That means every time clock # `n` ticks, some functions to update the state of the object at `path` get called.\n",
    "\n",
    "`setClock(n, dt)` sets the tick interval (in simulated time) of clock number `n` to `dt`. This may also be used as the timestep for temporal integration when updating the object involves solving a differential equation.\n",
    "\n"
   ]
  },
  {
   "cell_type": "code",
   "execution_count": 13,
   "id": "2f5648b8-c0d2-48c2-beae-977915a2c339",
   "metadata": {},
   "outputs": [],
   "source": [
    "## Uncomment below if you see an initial voltage transient when repeating the simulation\n",
    "\n",
    "# simdt = 1e-5   # simulation timestep\n",
    "# plotdt = 1e-3  # data collection timestep\n",
    "\n",
    "# moose.setClock(0, simdt)\n",
    "# moose.setClock(1, simdt)\n",
    "# moose.setClock(2, simdt)\n",
    "# moose.setClock(3, plotdt)\n",
    "\n",
    "# # moose uses `#` character as a wildcard. \n",
    "# # \"/model/#\" gets all objects that are children of `/model`.\n",
    "# # \"/model/#[TYPE=Compartment]\" gets all `Compartment` instances that are children of `/model`.\n",
    "# # \"/model/##\" gets all objects that are descendants (children, grand children, ...) of `/model`.\n",
    "\n",
    "# moose.useClock(0, f'{model.path}/#[TYPE=Compartment]', 'init')\n",
    "# moose.useClock(1, f'{model.path}/elec/##', 'process')\n",
    "# moose.useClock(1, f'{model.path}/#[TYPE=Compartment]', 'process')\n",
    "# moose.useClock(2, f'{axon.path}/#[TYPE=HHChannel]', 'process')\n",
    "# moose.useClock(3, f'{data.path}/#[TYPE=Table]', 'process')\n"
   ]
  },
  {
   "cell_type": "markdown",
   "id": "f965ba12-6d1f-4d56-96be-ccc959217025",
   "metadata": {},
   "source": [
    "Now run the simulation"
   ]
  },
  {
   "cell_type": "code",
   "execution_count": 14,
   "id": "2a8c052c-4411-453b-952d-3712a93905eb",
   "metadata": {},
   "outputs": [],
   "source": [
    "runtime = 50\n",
    "# `reinit` initialize the simulation \n",
    "moose.reinit()\n",
    "# run the simulation for `runtime` duration\n",
    "moose.start(runtime)"
   ]
  },
  {
   "cell_type": "markdown",
   "id": "0bdc2584-d1cd-4044-99df-8cb6398ba154",
   "metadata": {},
   "source": [
    "## Side note: plots to check gate dynamics"
   ]
  },
  {
   "cell_type": "markdown",
   "id": "83e68f1f-6cb6-493e-a365-6586df9f6634",
   "metadata": {},
   "source": [
    "We can check the interpolation tables created by the `HHGate`. The $\\alpha$ values are stored in the `tableA` and  $\\alpha + \\beta$ in the `tableB` field. \n",
    "*NOTE: By default, these tables are only populated upon `reinit`. If you want to force it before that, call `gate.fillFromExpr()`.*"
   ]
  },
  {
   "cell_type": "code",
   "execution_count": 15,
   "id": "41a41803-993a-436c-a021-b26c0e4238ed",
   "metadata": {},
   "outputs": [
    {
     "data": {
      "text/plain": [
       "<matplotlib.legend.Legend at 0x10f2dbb60>"
      ]
     },
     "execution_count": 15,
     "metadata": {},
     "output_type": "execute_result"
    },
    {
     "data": {
      "image/png": "[encoded data removed]",
      "text/plain": [
       "<Figure size 640x480 with 1 Axes>"
      ]
     },
     "metadata": {},
     "output_type": "display_data"
    }
   ],
   "source": [
    "# Compute the values by HH formula\n",
    "vdivs = 150\n",
    "vmin = -30.0\n",
    "vmax = 120.0\n",
    "v = np.linspace(vmin, vmax, vdivs)\n",
    "alpha_n = 0.01 * (10 - v) / (np.exp((10 - v)/10) - 1)\n",
    "beta_n = 0.125 * np.exp(-v/80)\n",
    "\n",
    "plt.plot(v, alpha_n, color='orange', label=r'$\\alpha_{n}$ (python)')\n",
    "plt.plot(v, beta_n, color='red', label=r'$\\beta_{n}$ (python)')\n",
    "\n",
    "#print(moose.showfields(gate))\n",
    "alpha_moose = gate.tableA\n",
    "beta_moose = gate.tableB - gate.tableA\n",
    "v = np.linspace(gate.min, gate.max, len(alpha_moose))\n",
    "plt.plot(v, alpha_moose, '--', color='green', label=r'$\\alpha_{n}$ (moose)')\n",
    "plt.plot(v, beta_moose,  '--', color='blue', label=r'$\\beta_{n}$ (moose)')\n",
    "plt.xlabel('Voltage (mV)')\n",
    "plt.ylabel('n')\n",
    "plt.legend()"
   ]
  },
  {
   "cell_type": "markdown",
   "id": "4509bc59-82e0-4e9e-ba06-7564eadbc62c",
   "metadata": {},
   "source": [
    "And check the $\\tau_{n}$ and $n_{infty}$ vs voltage plots."
   ]
  },
  {
   "cell_type": "code",
   "execution_count": 16,
   "id": "71807538-a9da-4615-a8ba-eea8355a358c",
   "metadata": {},
   "outputs": [
    {
     "data": {
      "image/png": "[encoded data removed]",
      "text/plain": [
       "<Figure size 800x400 with 2 Axes>"
      ]
     },
     "metadata": {},
     "output_type": "display_data"
    }
   ],
   "source": [
    "#print(moose.showfields(gate))\n",
    "plt.subplot(121)\n",
    "plt.plot(v, alpha_moose/gate.tableB, '-', color='orange', label=r'$n_{\\infty}$')\n",
    "plt.legend()\n",
    "plt.xlabel('Voltage (mV)')\n",
    "plt.ylabel('open fraction')\n",
    "\n",
    "plt.subplot(122)\n",
    "plt.plot(v, 1/gate.tableB,  '-', color='orange', label=r'$\\tau_{n}$')\n",
    "plt.legend()\n",
    "plt.xlabel('Voltage (mV)')\n",
    "plt.ylabel(r'$\\tau$ (ms)')\n",
    "plt.gcf().set_size_inches(8, 4)"
   ]
  },
  {
   "cell_type": "markdown",
   "id": "89782e2c-8c87-45d7-bab5-d93fa3852080",
   "metadata": {},
   "source": [
    "## Plot the simulated membrane voltage, current, and channel conductance"
   ]
  },
  {
   "cell_type": "code",
   "execution_count": 17,
   "id": "338bf6d2-afda-4f57-8b8d-519ecdb86ab8",
   "metadata": {},
   "outputs": [
    {
     "data": {
      "text/plain": [
       "Text(0.5, 0, 'Time (ms)')"
      ]
     },
     "execution_count": 17,
     "metadata": {},
     "output_type": "execute_result"
    },
    {
     "data": {
      "image/png": "[encoded data removed]",
      "text/plain": [
       "<Figure size 640x480 with 3 Axes>"
      ]
     },
     "metadata": {},
     "output_type": "display_data"
    }
   ],
   "source": [
    "v_command = command_tab.vector\n",
    "t_command = np.arange(len(v_command)) * command_tab.dt\n",
    "fig, axes = plt.subplots(nrows=3, ncols=1, sharex='all')\n",
    "axes[0].plot(t_command, v_command, label='Command voltage')\n",
    "axes[0].set_ylabel('Voltage (mV)')\n",
    "\n",
    "im = im_tab.vector\n",
    "t_im = np.arange(len(im)) * im_tab.dt\n",
    "axes[1].plot(t_im, im, label='Membrane current (mA/cm^2)')\n",
    "axes[1].set_ylabel('Im')\n",
    "#plt.plot(t_v, v_end, ':', label='Voltage at last compartment')\n",
    "gK = gK_tab.vector\n",
    "t_gK = np.arange(len(gK)) * gK_tab.dt\n",
    "axes[2].plot(t_gK, gK)\n",
    "axes[2].set_ylabel('GK')\n",
    "axes[2].set_xlabel('Time (ms)')"
   ]
  },
  {
   "cell_type": "markdown",
   "id": "ada0798f-737c-4d6c-b2eb-ebab3dfe6279",
   "metadata": {},
   "source": [
    "## Note on debugging\n",
    "Two common source of bug in moose model setup are\n",
    "1. forgetting to connect the fields for messaging, or connecting the incorrect fields. The connections (messages) to and from a moose object can be displayed with the `showmsg` function."
   ]
  },
  {
   "cell_type": "code",
   "execution_count": 18,
   "id": "288fe17e-1c2b-4228-9869-fdb462a61ba3",
   "metadata": {},
   "outputs": [
    {
     "name": "stdout",
     "output_type": "stream",
     "text": [
      "INCOMING:\n",
      "  /sim[0]/model[0]/axon[0]/K[0], [parentMsg] <-- /sim[0]/model[0]/axon[0], [childOut]\n",
      "  /sim[0]/model[0]/axon[0]/K[0], [process,reinit] <-- /clock[0], [process4,reinit4]\n",
      "  /sim[0]/model[0]/axon[0]/K[0], [getGk] <-- /sim[0]/data[0]/gK[0], [requestOut]\n",
      "\n",
      "OUTGOING:\n",
      "  /sim[0]/model[0]/axon[0]/K[0], [childOut] --> /sim[0]/model[0]/axon[0]/K[0]/gateX[0], [parentMsg]\n",
      "  /sim[0]/model[0]/axon[0]/K[0], [childOut] --> /sim[0]/model[0]/axon[0]/K[0]/gateY[0], [parentMsg]\n",
      "  /sim[0]/model[0]/axon[0]/K[0], [childOut] --> /sim[0]/model[0]/axon[0]/K[0]/gateZ[0], [parentMsg]\n",
      "  /sim[0]/model[0]/axon[0]/K[0], [channelOut] --> /sim[0]/model[0]/axon[0], [handleChannel]\n",
      "\n"
     ]
    }
   ],
   "source": [
    "moose.showmsg(kchan.path)"
   ]
  },
  {
   "cell_type": "markdown",
   "id": "fa8b7f47-bd3c-46a3-8443-48130f59ecae",
   "metadata": {},
   "source": [
    "2. Forgetting to initialize a field that needs to be initialized (e.g. `Gbar` of the channel object, not `Gk`). The field values can be checked with the `showfields` function."
   ]
  },
  {
   "cell_type": "code",
   "execution_count": 19,
   "id": "dd91d385-69f2-42c7-8a8c-814506273998",
   "metadata": {},
   "outputs": [
    {
     "name": "stdout",
     "output_type": "stream",
     "text": [
      "\n",
      "[/sim[0]/model[0]/axon[0]/K[0]]\n",
      "name                 = K\n",
      "className            = HHChannel\n",
      "tick                 = 4\n",
      "dt                   = 5e-05\n",
      "Ek                   = -12.0\n",
      "Gbar                 = 36.0\n",
      "Gk                   = 1.6088558556467367\n",
      "Ik                   = -35.39482882421848\n",
      "X                    = 0.4597837930087167\n",
      "Xpower               = 4.0\n",
      "Y                    = 0.0\n",
      "Ypower               = 0.0\n",
      "Z                    = 0.0\n",
      "Zpower               = 0.0\n",
      "instant              = 0\n",
      "modulation           = 1.0\n",
      "useConcentration     = 0\n",
      "\n"
     ]
    }
   ],
   "source": [
    "moose.showfields(kchan)"
   ]
  },
  {
   "cell_type": "markdown",
   "id": "5dacb7f6-9d11-41c5-aa1e-795dd1ad40ab",
   "metadata": {},
   "source": [
    "## Simulate Hodgkin and Huxleys experiment with different voltage steps\n",
    "Hodgkin and Huxley first identified the properties of the $K^{+}$ conductance by stepping the command voltage to various values (6, 10, 19, 26, 32, 38, 51, 63, 76, 88, 100, 109 mV above resting value). To do this we can repeat the simulation by changing the command voltage in our voltage clamp, and accumulating the time series of GK. We already defined the function `set_command_time_course(command, base, delay, level)` which we can use in a loop to update the level and rerun the simulation."
   ]
  },
  {
   "cell_type": "code",
   "execution_count": 20,
   "id": "9ca3859e-57aa-4a3a-820a-b9a5d6e22440",
   "metadata": {},
   "outputs": [
    {
     "data": {
      "text/plain": [
       "Text(0, 0.5, 'Conductivity (mS/cm^2)')"
      ]
     },
     "execution_count": 20,
     "metadata": {},
     "output_type": "execute_result"
    },
    {
     "data": {
      "image/png": "[encoded data removed]",
      "text/plain": [
       "<Figure size 640x480 with 2 Axes>"
      ]
     },
     "metadata": {},
     "output_type": "display_data"
    }
   ],
   "source": [
    "commands = np.r_[6, 10, 19, 26, 32, 38, 51, 63, 76, 88, 100, 109]\n",
    "fig, axes = plt.subplots(nrows=2, ncols=1, sharex='all')\n",
    "\n",
    "for level in commands:\n",
    "    set_command_timecourse(command, 0.0, 10.0, level)\n",
    "    moose.reinit()\n",
    "    moose.start(runtime)\n",
    "    gK = gK_tab.vector\n",
    "    t_gK = np.arange(len(gK)) * gK_tab.dt\n",
    "    axes[0].plot(t_gK, gK, label=f'{level} mV')\n",
    "    v_command = command_tab.vector\n",
    "    t_command = np.arange(len(v_command)) * command_tab.dt\n",
    "    axes[1].plot(t_command, v_command)\n",
    "\n",
    "\n",
    "axes[1].set_xlabel('Time (ms)')\n",
    "axes[1].set_ylabel('Command voltage (mV)')\n",
    "axes[0].set_ylabel('Conductivity (mS/cm^2)')"
   ]
  },
  {
   "cell_type": "markdown",
   "id": "7b027a4e-3984-4fc4-b64f-55951077e874",
   "metadata": {},
   "source": [
    "## Exercises\n",
    "1. Collect the final steady state values of the $K^{+}$ conductance (`Gk`) and plot against the command voltage."
   ]
  }
 ],
 "metadata": {
  "kernelspec": {
   "display_name": "Python 3 (ipykernel)",
   "language": "python",
   "name": "python3"
  },
  "language_info": {
   "codemirror_mode": {
    "name": "ipython",
    "version": 3
   },
   "file_extension": ".py",
   "mimetype": "text/x-python",
   "name": "python",
   "nbconvert_exporter": "python",
   "pygments_lexer": "ipython3",
   "version": "3.13.7"
  }
 },
 "nbformat": 4,
 "nbformat_minor": 5
}
