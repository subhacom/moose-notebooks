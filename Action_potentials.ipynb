{
 "cells": [
  {
   "cell_type": "markdown",
   "id": "2d471702-a31f-4803-a77c-f36688f69712",
   "metadata": {},
   "source": [
    "[![Open In Colab](./colab-badge.png)](https://colab.research.google.com/github/subhacom/moose-notebooks/blob/main/Action_potentials.ipynb) "
   ]
  },
  {
   "cell_type": "markdown",
   "id": "736df447-fbd2-4309-a938-5aa2f51936cf",
   "metadata": {},
   "source": [
    "If you are using `colab`, in a fresh runtime you need to run pip to install pymoose there. On the other hand, if you are running jupyter locally and have pymoose installed in that environment, skip the line below."
   ]
  },
  {
   "cell_type": "code",
   "execution_count": 1,
   "id": "ba690ea5-b5c7-4d46-bd6a-755c7e8ada75",
   "metadata": {},
   "outputs": [],
   "source": [
    "## Only required on colab! Uncomment to enable.\n",
    "# !pip install pymoose --quiet"
   ]
  },
  {
   "cell_type": "markdown",
   "id": "117b2fd5-339a-46fc-afdb-2db4f953d967",
   "metadata": {},
   "source": [
    "# Action potential: putting $Na^{+}$ and $K^{+}$ channels together"
   ]
  },
  {
   "cell_type": "markdown",
   "id": "ccff9826-3522-4d55-9199-08ce8931174d",
   "metadata": {},
   "source": [
    "Now that we saw how to model the $Na^{+}$ and $K^{+}$ channels, we can put them together and run current clamp experiments to actually generate action potentials."
   ]
  },
  {
   "cell_type": "markdown",
   "id": "2719d51f-bbe2-4185-a8b4-297f54aeca5d",
   "metadata": {},
   "source": [
    "First we do the usual imports, create containers for model and data."
   ]
  },
  {
   "cell_type": "code",
   "execution_count": 2,
   "id": "be979804-a797-4187-8aa1-05e50f6e235d",
   "metadata": {},
   "outputs": [],
   "source": [
    "# Usual imports\n",
    "import numpy as np\n",
    "import matplotlib.pyplot as plt\n",
    "\n",
    "import moose\n",
    "\n",
    "\n",
    "# Create containers\n",
    "container = moose.Neutral('/sim')\n",
    "model = moose.Neutral('/sim/model')\n",
    "data =  moose.Neutral('/sim/data')"
   ]
  },
  {
   "cell_type": "markdown",
   "id": "227cd2c5-fcb7-4691-987d-80fd3c38fa8b",
   "metadata": {},
   "source": [
    "Then we create compartment representing the squid giant axon. *Notice that we did not bother with the length and diameter in these examples. As long as everything is expressed in consistent scale (here specific values: specific capacitance, specific resistance, specific conductance for the channels), the numerical results will be consistent."
   ]
  },
  {
   "cell_type": "code",
   "execution_count": 3,
   "id": "2ee5acf3-a6f0-43b2-90cc-c0db8536d9c1",
   "metadata": {},
   "outputs": [],
   "source": [
    "# Create a compartment representing the squid giant axon\n",
    "axon = moose.Compartment(f'{model.path}/axon')\n",
    "axon.Em = 0    # Hodgkin and Huxley used resting voltage as 0\n",
    "axon.initVm = 0\n",
    "axon.Cm = 1\n",
    "axon.Rm = 1 / 0.3   # G_leak is 0.3 mS/cm^2"
   ]
  },
  {
   "cell_type": "markdown",
   "id": "ca6e3678-5112-4baa-8caf-ca4e766b942c",
   "metadata": {},
   "source": [
    "## Create K+ and Na+ channels according to Hodgking and Huxley's formulation"
   ]
  },
  {
   "cell_type": "markdown",
   "id": "4e9d3425-0faf-4b65-9cc3-efdf6eabd4a0",
   "metadata": {},
   "source": [
    "We copy the code for creating the $K^{+}$ channel from the K-channel notebook."
   ]
  },
  {
   "cell_type": "code",
   "execution_count": 4,
   "id": "372f37bf-9e3d-48f5-a0f9-87a50ac2d442",
   "metadata": {},
   "outputs": [],
   "source": [
    "# Create K channel and connect it to the compartment\n",
    "kchan = moose.HHChannel(f'{axon.path}/K')\n",
    "moose.connect(kchan, 'channel', axon, 'channel')\n",
    "\n",
    "\n",
    "kchan.Ek = -11.9998   # mV with respect to resting Vm\n",
    "# Gbar is maximum conductance. \n",
    "# The voltage dependent conductance value is computed and \n",
    "# stored in the field Gk, which we record in a table below\n",
    "kchan.Gbar = 36.0  # mS/cm^2\n",
    "\n",
    "kchan.Xpower = 4    # Gbar is multiplied by 4-th power of n: Gbar_K * n^4 \n",
    "\n",
    "n_gate = moose.element(f'{kchan.path}/gateX')\n",
    "\n",
    "n_gate.alphaExpr = '0.01 * (-V + 10)/(exp((-V+10)/10) - 1)'\n",
    "n_gate.betaExpr = '0.125 * exp(-V/80)'"
   ]
  },
  {
   "cell_type": "code",
   "execution_count": 5,
   "id": "29af6258-50db-480b-a3b1-f29d90215004",
   "metadata": {},
   "outputs": [],
   "source": [
    "# Create Na channel and connect it to the compartment\n",
    "nachan = moose.HHChannel(f'{axon.path}/Na')\n",
    "moose.connect(nachan, 'channel', axon, 'channel')\n",
    "nachan.Ek = 114.9975   # mV with respect to resting Vm\n",
    "# Gbar is maximum conductance. \n",
    "# The voltage dependent conductance value is computed and \n",
    "# stored in the field Gk, which we record in a table below\n",
    "nachan.Gbar = 120.0  # mS/cm^2\n",
    "\n",
    "# G_Na = Gbar_Na * m^3 * h\n",
    "# X gate corresponds to m in HH paper, and has power 3\n",
    "nachan.Xpower = 3\n",
    "# Y gate corresponds to h in HH paper, and has power 1\n",
    "nachan.Ypower = 1\n",
    "\n",
    "\n",
    "m_gate = moose.element(f'{nachan.path}/gateX')\n",
    "\n",
    "m_gate.alphaExpr = '0.1 * (-V + 25)/(exp((-V+25)/10) - 1)'\n",
    "m_gate.betaExpr = '4 * exp(-V/18)'\n",
    "\n",
    "h_gate = moose.element(f'{nachan.path}/gateY')\n",
    "\n",
    "h_gate.alphaExpr = '0.07 * exp(-V/20)'\n",
    "h_gate.betaExpr = '1 / (exp((-V + 30) / 10) + 1)'\n"
   ]
  },
  {
   "cell_type": "markdown",
   "id": "2da95e05-9186-4f96-bc82-542816236107",
   "metadata": {},
   "source": [
    "Finally, we set the interpolation range and the number of divisions common to all three gates"
   ]
  },
  {
   "cell_type": "code",
   "execution_count": 6,
   "id": "1b055795-a116-43c7-a400-7dd5a0b5ce5b",
   "metadata": {},
   "outputs": [],
   "source": [
    "for g in (n_gate, m_gate, h_gate):\n",
    "    g.divs = 150\n",
    "    g.min = -30.0\n",
    "    g.max = 120.0"
   ]
  },
  {
   "cell_type": "markdown",
   "id": "7f437936-bf57-47ce-b214-92ea1eb0f590",
   "metadata": {},
   "source": [
    "We also create a pulse generator to inject a current pulse into the axon"
   ]
  },
  {
   "cell_type": "markdown",
   "id": "e2542f1f-39f2-445a-bb49-03c43c1da497",
   "metadata": {},
   "source": [
    "## Create PulseGen for current injection protocol"
   ]
  },
  {
   "cell_type": "code",
   "execution_count": 7,
   "id": "eb95a071-df08-421c-9171-18c3a6e862b3",
   "metadata": {},
   "outputs": [
    {
     "data": {
      "text/plain": [
       "<moose.SingleMsg id=5 dataIndex=2 path=/Msgs[0]/singleMsg[2]>"
      ]
     },
     "execution_count": 7,
     "metadata": {},
     "output_type": "execute_result"
    }
   ],
   "source": [
    "pulse = moose.PulseGen(f'{model.path}/pulse')\n",
    "moose.connect(pulse, 'output', axon, 'injectMsg')"
   ]
  },
  {
   "cell_type": "markdown",
   "id": "9128aac5-8fef-43fa-b141-d15cf056b642",
   "metadata": {},
   "source": [
    "## Setup data recording"
   ]
  },
  {
   "cell_type": "markdown",
   "id": "52eeaabb-3730-4e5e-96e5-5213ddc5d176",
   "metadata": {},
   "source": [
    "And finally, setup data recording. We shall record the voltage in the table `/data/Vm`, the $Na^{+}$ conductance (here conductivity because we are using specific values for everything, i.e., our compartment has unit length and unit surface area) in the table `/data/gNa` and the $K^{+}$ conductance in the table `/data/gK`."
   ]
  },
  {
   "cell_type": "code",
   "execution_count": 8,
   "id": "7a3fac26-ff4e-42c9-9e5d-34745c2ebb18",
   "metadata": {},
   "outputs": [
    {
     "data": {
      "text/plain": [
       "<moose.SingleMsg id=5 dataIndex=6 path=/Msgs[0]/singleMsg[6]>"
      ]
     },
     "execution_count": 8,
     "metadata": {},
     "output_type": "execute_result"
    }
   ],
   "source": [
    "gNa_tab = moose.Table(f'{data.path}/gNa')\n",
    "moose.connect(gNa_tab, 'requestOut', nachan, 'getGk')\n",
    "gK_tab = moose.Table(f'{data.path}/gK')\n",
    "moose.connect(gK_tab, 'requestOut', kchan, 'getGk')\n",
    "vm_tab = moose.Table(f'{data.path}/Vm')\n",
    "moose.connect(vm_tab, 'requestOut', axon, 'getVm')\n",
    "inject_tab = moose.Table(f'{data.path}/inject')\n",
    "moose.connect(inject_tab, 'requestOut', pulse, 'getOutputValue')"
   ]
  },
  {
   "cell_type": "code",
   "execution_count": 9,
   "id": "72bffa57-3cf0-4503-a5d8-9a1704d76b1f",
   "metadata": {},
   "outputs": [],
   "source": [
    "## Uncomment below if you see an initial voltage transient when repeating the simulation\n",
    "\n",
    "# simdt = 1e-5   # simulation timestep\n",
    "# plotdt = 1e-3  # data collection timestep\n",
    "\n",
    "# moose.setClock(0, simdt)\n",
    "# moose.setClock(1, simdt)\n",
    "# moose.setClock(2, simdt)\n",
    "# moose.setClock(3, plotdt)\n",
    "\n",
    "# # moose uses `#` character as a wildcard. \n",
    "# # \"/model/#\" gets all objects that are children of `/model`.\n",
    "# # \"/model/#[TYPE=Compartment]\" gets all `Compartment` instances that are children of `/model`.\n",
    "# # \"/model/##\" gets all objects that are descendants (children, grand children, ...) of `/model`.\n",
    "\n",
    "# moose.useClock(0, f'{model.path}/#[TYPE=Compartment]', 'init')\n",
    "# moose.useClock(1, f'{pulse.path}', 'process')\n",
    "# moose.useClock(1, f'{model.path}/#[TYPE=Compartment]', 'process')\n",
    "# moose.useClock(2, f'{axon.path}/#[TYPE=HHChannel]', 'process')\n",
    "# moose.useClock(3, f'{data.path}/#[TYPE=Table]', 'process')"
   ]
  },
  {
   "cell_type": "code",
   "execution_count": 10,
   "id": "512ecfe0-9b29-42fb-9d9b-2a8d0a9e8bd9",
   "metadata": {},
   "outputs": [],
   "source": [
    "# Modify this to see effect of different current amplitudes\n",
    "pulse.delay[0] = 10.0  # start current pulse at 10 ms\n",
    "pulse.level[0] = 20    # give 20 uA/cm^2 current injection\n",
    "pulse.width[0] = 90    # deliver 90 ms\n",
    "pulse.baseLevel = 0    # no baseline current"
   ]
  },
  {
   "cell_type": "code",
   "execution_count": 11,
   "id": "ac50f81e-febe-4cd0-8519-ba1a65d47698",
   "metadata": {},
   "outputs": [
    {
     "name": "stderr",
     "output_type": "stream",
     "text": [
      "<>:10: SyntaxWarning: invalid escape sequence '\\m'\n",
      "<>:13: SyntaxWarning: invalid escape sequence '\\m'\n",
      "<>:10: SyntaxWarning: invalid escape sequence '\\m'\n",
      "<>:13: SyntaxWarning: invalid escape sequence '\\m'\n",
      "/var/folders/p_/xskpv9tj67vb17xz1wmnps2r0000gn/T/ipykernel_5455/4093985719.py:10: SyntaxWarning: invalid escape sequence '\\m'\n",
      "  plt.plot(t, inject_tab.vector, label='inject ($\\mu A/cm^{2}$)')\n",
      "/var/folders/p_/xskpv9tj67vb17xz1wmnps2r0000gn/T/ipykernel_5455/4093985719.py:13: SyntaxWarning: invalid escape sequence '\\m'\n",
      "  plt.ylabel('Membrane potential (mV)\\nInjected current ($\\mu A/cm^{2}$)')\n"
     ]
    },
    {
     "data": {
      "text/plain": [
       "Text(0, 0.5, 'Membrane potential (mV)\\nInjected current ($\\\\mu A/cm^{2}$)')"
      ]
     },
     "execution_count": 11,
     "metadata": {},
     "output_type": "execute_result"
    },
    {
     "data": {
      "image/png": "[encoded data removed]",
      "text/plain": [
       "<Figure size 640x480 with 1 Axes>"
      ]
     },
     "metadata": {},
     "output_type": "display_data"
    }
   ],
   "source": [
    "runtime = 100\n",
    "# `reinit` initialize the simulation \n",
    "moose.reinit()\n",
    "# run the simulation for `runtime` duration\n",
    "moose.start(runtime)\n",
    "\n",
    "# Plot the voltage\n",
    "t = np.arange(len(vm_tab.vector)) * vm_tab.dt\n",
    "plt.plot(t, vm_tab.vector, label='Vm (mV)')\n",
    "plt.plot(t, inject_tab.vector, label='inject ($\\mu A/cm^{2}$)')\n",
    "plt.legend()\n",
    "plt.xlabel('Time (ms)')\n",
    "plt.ylabel('Membrane potential (mV)\\nInjected current ($\\mu A/cm^{2}$)')\n"
   ]
  },
  {
   "cell_type": "markdown",
   "id": "ff81f9cd-90d5-4039-aea6-f0ec31c42cb5",
   "metadata": {},
   "source": [
    "## Exercises"
   ]
  },
  {
   "cell_type": "markdown",
   "id": "437fe81f-3122-40d6-bf1e-74df88fab216",
   "metadata": {},
   "source": [
    "1. Change the amplitude of the injected current from $1 \\mu A/cm^{2}$ till $100 \\mu A/cm^{2}$ in small steps and count how many spikes occur in each case. What do you observe?"
   ]
  },
  {
   "cell_type": "markdown",
   "id": "35f9b49c-8c08-4edf-b312-f170f11368d4",
   "metadata": {},
   "source": [
    "2. Try to pinpoint the current amplitude for which you start to get spike. Show what you tried, and try to explain your observation."
   ]
  },
  {
   "cell_type": "markdown",
   "id": "bba7010b-8ddf-46ae-8dd1-9251ebfbf94a",
   "metadata": {},
   "source": [
    "3. You can obtain the gate variables, $m$, $h$, and $n$ by tapping into the `HHChannel` objects. The gate variables are computed and stored as `X` and `Y` fields in the channel. Therefore you can collect the values of $n$ by attaching a table like this:\n",
    "   \n",
    "    ```python\n",
    "        moose.connect(ntab, 'requestOut', kchan, 'getX')\n",
    "    ```\n",
    "   \n",
    "    Of course, you have to create the `Table` `ntab` before that. For $Na^{+}$ channel you have to tap into the X gate for $m$ and Y gate for $h$ parameter.\n",
    "      \n",
    "\n",
    "    ```python\n",
    "       moose.connect(mtab, 'requestOut', nachan, 'getX')\n",
    "       moose.connect(htab, 'requestOut', nachan, 'getY')\n",
    "    ```\n",
    "\n",
    "\n",
    "    These three variables, $m$, $h$ and $n$, are the state variables of the Hodgkin-Huxley neuron.\n",
    "\n",
    "    Make a plot showing how these three variables change with time."
   ]
  },
  {
   "cell_type": "markdown",
   "id": "3c0dc6a0-59bd-452a-b638-218ce3ebf5ee",
   "metadata": {},
   "source": [
    "4. The Hodgkin-Huxley neuron is a [dynamical system](http://www.scholarpedia.org/article/Dynamical_systems), and its statespace consists of the three state variables $m$, $h$, and $n$. Make a 3D plot displaying the relation between these variables."
   ]
  },
  {
   "cell_type": "code",
   "execution_count": null,
   "id": "08ed5a9d-7e21-4a8f-af4d-76db920cd30c",
   "metadata": {},
   "outputs": [],
   "source": []
  }
 ],
 "metadata": {
  "kernelspec": {
   "display_name": "Python 3 (ipykernel)",
   "language": "python",
   "name": "python3"
  },
  "language_info": {
   "codemirror_mode": {
    "name": "ipython",
    "version": 3
   },
   "file_extension": ".py",
   "mimetype": "text/x-python",
   "name": "python",
   "nbconvert_exporter": "python",
   "pygments_lexer": "ipython3",
   "version": "3.13.7"
  }
 },
 "nbformat": 4,
 "nbformat_minor": 5
}
